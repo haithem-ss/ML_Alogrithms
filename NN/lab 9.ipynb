{
 "cells": [
  {
   "cell_type": "code",
   "execution_count": 1,
   "metadata": {},
   "outputs": [
    {
     "name": "stdout",
     "output_type": "stream",
     "text": [
      "[0, 0, 1, 1]\n",
      "1\n"
     ]
    }
   ],
   "source": [
    "import numpy as np\n",
    "\n",
    "def sigmoid_a(x, deriv=False):\n",
    "    if deriv:\n",
    "        return x * (1 - x)\n",
    "    return 1 / (1 + np.exp(-x))\n",
    "\n",
    "# Given data\n",
    "X = np.array([[0, 0, 1],\n",
    "              [0, 1, 1],\n",
    "              [1, 0, 1],\n",
    "              [1, 1, 1]])\n",
    "\n",
    "y = np.array([0, 0, 1, 1]).reshape(-1, 1)\n",
    "\n",
    "# Initialize the weights\n",
    "np.random.seed(0)\n",
    "W = 2 * np.random.random((3, 1)) - 1\n",
    "\n",
    "# Number of iterations\n",
    "epochs = 100\n",
    "\n",
    "# Training the perceptron\n",
    "for i in range(epochs):\n",
    "    # Forward propagation\n",
    "    out = sigmoid_a(np.dot(X, W))\n",
    "    \n",
    "    # Calculate the error\n",
    "    err = y - out\n",
    "    \n",
    "    # Backpropagation\n",
    "    delta = err * sigmoid_a(out, deriv=True)\n",
    "    W += np.dot(X.T, delta)\n",
    "\n",
    "# Predicting the classes of each observation\n",
    "raw_predictions = sigmoid_a(np.dot(X, W))\n",
    "predictions = [1 if pred >= 0.5 else 0 for pred in raw_predictions]\n",
    "\n",
    "# Predicting the class of [1, 0, 0]\n",
    "new_observation = np.array([1, 0, 0])\n",
    "raw_prediction = sigmoid_a(np.dot(new_observation, W))\n",
    "prediction = 1 if raw_prediction >= 0.5 else 0\n",
    "\n"
   ]
  }
 ],
 "metadata": {
  "kernelspec": {
   "display_name": "Python 3",
   "language": "python",
   "name": "python3"
  },
  "language_info": {
   "codemirror_mode": {
    "name": "ipython",
    "version": 3
   },
   "file_extension": ".py",
   "mimetype": "text/x-python",
   "name": "python",
   "nbconvert_exporter": "python",
   "pygments_lexer": "ipython3",
   "version": "3.11.7"
  }
 },
 "nbformat": 4,
 "nbformat_minor": 2
}
